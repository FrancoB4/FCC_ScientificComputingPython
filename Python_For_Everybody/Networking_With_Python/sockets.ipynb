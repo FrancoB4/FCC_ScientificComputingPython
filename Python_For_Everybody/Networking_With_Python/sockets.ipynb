{
 "cells": [
  {
   "cell_type": "code",
   "execution_count": null,
   "outputs": [],
   "source": [
    "import socket"
   ],
   "metadata": {
    "collapsed": false,
    "pycharm": {
     "name": "#%%\n"
    }
   }
  },
  {
   "cell_type": "code",
   "execution_count": 5,
   "outputs": [],
   "source": [
    "# Creamos un socket que se ejecute a través de internet (primer parámetro) y que lo que vamos a recibir será una cadena de caracteres uno detrás del otro\n",
    "mysock = socket.socket(socket.AF_INET, socket.SOCK_STREAM)"
   ],
   "metadata": {
    "collapsed": false,
    "pycharm": {
     "name": "#%%\n"
    }
   }
  },
  {
   "cell_type": "code",
   "execution_count": null,
   "outputs": [],
   "source": [
    "# Creamos una conexión a través de internet con un host y a través de un puerto específico\n",
    "mysock.connect(('data.pr4e.org', 80))"
   ],
   "metadata": {
    "collapsed": false,
    "pycharm": {
     "name": "#%%\n"
    }
   }
  },
  {
   "cell_type": "markdown",
   "source": [
    "Con esto hemos creado el socket y lo hemos conectado a un host, pero todavía no enviamos ni recibimos mensaje alguno desde él."
   ],
   "metadata": {
    "collapsed": false,
    "pycharm": {
     "name": "#%% md\n"
    }
   }
  },
  {
   "cell_type": "markdown",
   "source": [
    "Antes de establecer una comunicación con el host debemos definir el protocolo de conexión.\n",
    "\n",
    "Un protocolo de conexión no es más que un conjunto de reglas definidas para la comunicación que se\n",
    "está estableciendo de forma que se puede predecir el comportamiento que va a tener la otra parte\n",
    "y asi evitar que choquen entre sí."
   ],
   "metadata": {
    "collapsed": false,
    "pycharm": {
     "name": "#%% md\n"
    }
   }
  },
  {
   "cell_type": "markdown",
   "source": [
    "### Obteniendo información desde el servidor:\n",
    "\n",
    "Cada clic del usuario tiene una referencia que le indica una nueva página para dirigirse. El\n",
    "buscador realiza la conexión con el servidor web y realiza un pedido GET - para obtener el\n",
    "contenido de la página en el URL especificado.\n",
    "\n",
    "El servidor le devuelve un documento HTML con el formato para mostrarle al usuario."
   ],
   "metadata": {
    "collapsed": false,
    "pycharm": {
     "name": "#%% md\n"
    }
   }
  },
  {
   "cell_type": "markdown",
   "source": [
    "La respuesta del servidor tiene un formato determinado establecido en los estándares del\n",
    "protocolo HTTP. Estos estándares implican muy por encima, que la respuesta del servidor debe\n",
    "comenzar por una sección con los HEADERS (información general a cerca de la respuesta[fecha\n",
    "tipo del contenido, etc.]), y luego continuar con el documento o cuerpo de la respuesta,\n",
    "generalmente constituido por un archivo HTML."
   ],
   "metadata": {
    "collapsed": false,
    "pycharm": {
     "name": "#%% md\n"
    }
   }
  }
 ],
 "metadata": {
  "kernelspec": {
   "display_name": "Python 3",
   "language": "python",
   "name": "python3"
  },
  "language_info": {
   "codemirror_mode": {
    "name": "ipython",
    "version": 2
   },
   "file_extension": ".py",
   "mimetype": "text/x-python",
   "name": "python",
   "nbconvert_exporter": "python",
   "pygments_lexer": "ipython2",
   "version": "2.7.6"
  }
 },
 "nbformat": 4,
 "nbformat_minor": 0
}